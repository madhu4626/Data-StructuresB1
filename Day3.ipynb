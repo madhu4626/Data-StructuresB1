{
 "cells": [
  {
   "cell_type": "code",
   "execution_count": 5,
   "metadata": {},
   "outputs": [
    {
     "name": "stdout",
     "output_type": "stream",
     "text": [
      "xyz 15th July 2021 ->mno 10th March 2021 ->abc 12th January 2021 ->None\n",
      "After Deletion\n",
      "xyz 15th July 2021 ->mno 10th March 2021 ->None\n"
     ]
    }
   ],
   "source": [
    "#Assignment 3\n",
    "#Q1)\n",
    "\n",
    "class MovieNode:\n",
    "    def __init__(self, movieName, relDate):\n",
    "        self.movieName = movieName\n",
    "        self.relDate = relDate\n",
    "        self.next = None\n",
    "        return\n",
    "    \n",
    "class NetflixMOviesList:\n",
    "    def __init__(self):\n",
    "        self.head = None\n",
    "        self.tail = None\n",
    "            \n",
    "    def addMOvies(self, movieName, relDate):\n",
    "        new = MovieNode(movieName, relDate)\n",
    "        if self.head == None:\n",
    "            self.head = new\n",
    "            self.tail = new\n",
    "            return\n",
    "        new.next = self.head\n",
    "        self.head = new\n",
    "        return\n",
    "    \n",
    "    def displayMovieList(self):\n",
    "        if self.head == None:\n",
    "            print(\"No movies to display\")\n",
    "            return\n",
    "        temp = self.head\n",
    "        while(temp!= None):\n",
    "            print(temp.movieName, temp.relDate, '->', end = \"\")\n",
    "            temp = temp.next\n",
    "        print('None')\n",
    "        return\n",
    "    \n",
    "    def deleteLastNode(self):\n",
    "        if(self.head == None):\n",
    "            print(\"List is Empty\")\n",
    "            return\n",
    "        else:\n",
    "            if(self.head != self.tail):\n",
    "                current = self.head\n",
    "                while(current.next != self.tail):\n",
    "                    current = current.next\n",
    "                self.tail = current\n",
    "                self.tail.next = None;\n",
    "                return\n",
    "              \n",
    "movieList = NetflixMOviesList()\n",
    "movieList.addMOvies(\"abc\", \"12th January 2021\")\n",
    "movieList.addMOvies(\"mno\", \"10th March 2021\")\n",
    "movieList.addMOvies(\"xyz\", \"15th July 2021\")\n",
    "movieList.displayMovieList()\n",
    "movieList.deleteLastNode()\n",
    "print(\"After Deletion\")\n",
    "movieList.displayMovieList()"
   ]
  },
  {
   "cell_type": "code",
   "execution_count": null,
   "metadata": {},
   "outputs": [],
   "source": []
  }
 ],
 "metadata": {
  "kernelspec": {
   "display_name": "Python 3",
   "language": "python",
   "name": "python3"
  },
  "language_info": {
   "codemirror_mode": {
    "name": "ipython",
    "version": 3
   },
   "file_extension": ".py",
   "mimetype": "text/x-python",
   "name": "python",
   "nbconvert_exporter": "python",
   "pygments_lexer": "ipython3",
   "version": "3.7.4"
  }
 },
 "nbformat": 4,
 "nbformat_minor": 2
}
