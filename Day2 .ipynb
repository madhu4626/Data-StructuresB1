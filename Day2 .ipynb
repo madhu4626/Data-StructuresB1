{
 "cells": [
  {
   "cell_type": "markdown",
   "metadata": {},
   "source": [
    "#Code\n",
    "(for i=1; i<=n; i=i*2)\n",
    "(for j=1; j<=i; j=j++)\n",
    "print(\"Hello\")\n",
    "\n",
    "let n=10\n",
    "when i = 1  j=1, prints hello 1 time\n",
    "when i = 2  j = 1,2 prints hello 2 times\n",
    "when i = 4  j = 1,2,3,4 prints hello 4 times\n",
    "when i = 8  j = 1,2,3,4,5,6,7,8 prints hello 8 times\n",
    ".\n",
    ".\n",
    ".\n",
    "when i=n  j = n prints n times\n",
    "so t(n) = O(n*n) n2\n",
    "\n"
   ]
  }
 ],
 "metadata": {
  "kernelspec": {
   "display_name": "Python 3",
   "language": "python",
   "name": "python3"
  },
  "language_info": {
   "codemirror_mode": {
    "name": "ipython",
    "version": 3
   },
   "file_extension": ".py",
   "mimetype": "text/x-python",
   "name": "python",
   "nbconvert_exporter": "python",
   "pygments_lexer": "ipython3",
   "version": "3.7.4"
  }
 },
 "nbformat": 4,
 "nbformat_minor": 2
}
