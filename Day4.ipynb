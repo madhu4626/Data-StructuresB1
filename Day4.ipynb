{
 "cells": [
  {
   "cell_type": "code",
   "execution_count": 3,
   "metadata": {},
   "outputs": [
    {
     "name": "stdout",
     "output_type": "stream",
     "text": [
      "Enter the cab code:35\n",
      "No Cabs Found Nearby\n"
     ]
    }
   ],
   "source": [
    "#Day 4\n",
    "class Uber:\n",
    "    def __init__(self):\n",
    "        self.cabs = [3,8,12,13,17,23,34]\n",
    "        return\n",
    "    \n",
    "    def bsearch(self, x):\n",
    "        beg =0\n",
    "        end = len(self.cabs)-1\n",
    "        while(beg <= end):\n",
    "            mid = (beg + end)// 2\n",
    "            if x == self.cabs[mid]:\n",
    "                return mid\n",
    "            elif x > self.cabs[mid]:\n",
    "                beg = mid+1\n",
    "            else:\n",
    "                end = mid-1\n",
    "        return -1\n",
    "    \n",
    "id = Uber()\n",
    "x = int(input(\"Enter the cab code:\"))\n",
    "pos = id.bsearch(x)\n",
    "if pos == -1:\n",
    "    print(\"No Cabs Found Nearby\")\n",
    "else:\n",
    "    print(\"Cab is\", pos, \"Kms Away From U,Arriving Soon\")\n",
    "        "
   ]
  },
  {
   "cell_type": "code",
   "execution_count": 12,
   "metadata": {},
   "outputs": [
    {
     "name": "stdout",
     "output_type": "stream",
     "text": [
      "Enter the cab code:12\n",
      "Cab is 2 Kms Away From U,Arriving Soon\n"
     ]
    }
   ],
   "source": [
    "# Assignment 4\n",
    "class Uber:\n",
    "    def __init__(self):\n",
    "        self.cabs = [3,8,12,13,17,23,34]\n",
    "        return\n",
    "    \n",
    "    def lsearch(self, x):\n",
    "        for i in range(len(self.cabs)):\n",
    "            if self.cabs[i] == x:\n",
    "                return i\n",
    "        return -1\n",
    "    \n",
    "id = Uber()\n",
    "x = int(input(\"Enter the cab code:\"))\n",
    "pos = id.lsearch(x)\n",
    "if pos == -1:\n",
    "    print(\"No Cabs Found Nearby\")\n",
    "else:\n",
    "    print(\"Cab is\", pos, \"Kms Away From U,Arriving Soon\")\n",
    "        "
   ]
  }
 ],
 "metadata": {
  "kernelspec": {
   "display_name": "Python 3",
   "language": "python",
   "name": "python3"
  },
  "language_info": {
   "codemirror_mode": {
    "name": "ipython",
    "version": 3
   },
   "file_extension": ".py",
   "mimetype": "text/x-python",
   "name": "python",
   "nbconvert_exporter": "python",
   "pygments_lexer": "ipython3",
   "version": "3.7.4"
  }
 },
 "nbformat": 4,
 "nbformat_minor": 2
}
