{
 "cells": [
  {
   "cell_type": "code",
   "execution_count": 3,
   "metadata": {},
   "outputs": [
    {
     "name": "stdout",
     "output_type": "stream",
     "text": [
      "x: 2\n",
      "y: 3\n",
      "power of x to y:  8\n"
     ]
    }
   ],
   "source": [
    "#Q1)\n",
    "x = int(input(\"x: \"));\n",
    "y = int(input(\"y: \"));\n",
    "print(\"power of x to y: \", x**y);"
   ]
  },
  {
   "cell_type": "code",
   "execution_count": 4,
   "metadata": {},
   "outputs": [
    {
     "name": "stdout",
     "output_type": "stream",
     "text": [
      "enter the range:5\n",
      "3\n",
      "5\n",
      "9\n",
      "12\n",
      "17\n",
      "[3, 9, 12]\n"
     ]
    }
   ],
   "source": [
    "#Q)\n",
    "numberlist = [];\n",
    "n = int(input(\"enter the range:\"));\n",
    "for i in range(0,n):\n",
    "    ele = int(input())\n",
    "    if ele %3 == 0:\n",
    "        numberlist.append(ele);\n",
    "print(numberlist);"
   ]
  },
  {
   "cell_type": "code",
   "execution_count": null,
   "metadata": {},
   "outputs": [],
   "source": []
  }
 ],
 "metadata": {
  "kernelspec": {
   "display_name": "Python 3",
   "language": "python",
   "name": "python3"
  },
  "language_info": {
   "codemirror_mode": {
    "name": "ipython",
    "version": 3
   },
   "file_extension": ".py",
   "mimetype": "text/x-python",
   "name": "python",
   "nbconvert_exporter": "python",
   "pygments_lexer": "ipython3",
   "version": "3.7.4"
  }
 },
 "nbformat": 4,
 "nbformat_minor": 2
}
